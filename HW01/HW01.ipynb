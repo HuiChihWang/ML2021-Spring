{
  "nbformat": 4,
  "nbformat_minor": 0,
  "metadata": {
    "colab": {
      "name": "ML2021Spring_HW1.ipynb",
      "provenance": [],
      "collapsed_sections": []
    },
    "kernelspec": {
      "name": "python3",
      "display_name": "Python 3"
    },
    "accelerator": "GPU"
  },
  "cells": [
    {
      "cell_type": "markdown",
      "metadata": {
        "id": "mz0_QVkxCrX3"
      },
      "source": [
        "# **Homework 1: COVID-19 Cases Prediction (Regression)**"
      ]
    },
    {
      "cell_type": "markdown",
      "metadata": {
        "id": "ZeZnPAiwDRWG"
      },
      "source": [
        "Author: Heng-Jui Chang\n",
        "\n",
        "Slides: https://github.com/ga642381/ML2021-Spring/blob/main/HW01/HW01.pdf  \n",
        "Videos (Mandarin): https://cool.ntu.edu.tw/courses/4793/modules/items/172854  \n",
        "https://cool.ntu.edu.tw/courses/4793/modules/items/172853  \n",
        "Video (English): https://cool.ntu.edu.tw/courses/4793/modules/items/176529\n",
        "\n",
        "\n",
        "Objectives:\n",
        "* Solve a regression problem with deep neural networks (DNN).\n",
        "* Understand basic DNN training tips.\n",
        "* Get familiar with PyTorch.\n",
        "\n",
        "If any questions, please contact the TAs via TA hours, NTU COOL, or email.\n"
      ]
    },
    {
      "cell_type": "markdown",
      "metadata": {
        "id": "Jx3x1nDkG-Uy"
      },
      "source": [
        "# **Download Data**\n",
        "\n",
        "\n",
        "If the Google drive links are dead, you can download data from [kaggle](https://www.kaggle.com/c/ml2021spring-hw1/data), and upload data manually to the workspace."
      ]
    },
    {
      "cell_type": "code",
      "metadata": {
        "colab": {
          "base_uri": "https://localhost:8080/"
        },
        "id": "tMj55YDKG6ch",
        "outputId": "3a1bb455-617d-4068-b57b-d65a7d369d9c"
      },
      "source": [
        "tr_path = 'covid.train.csv'  # path to training data\n",
        "tt_path = 'covid.test.csv'   # path to testing data\n",
        "\n",
        "!gdown --id '19CCyCgJrUxtvgZF53vnctJiOJ23T5mqF' --output covid.train.csv\n",
        "!gdown --id '1CE240jLm2npU-tdz81-oVKEF3T2yfT1O' --output covid.test.csv"
      ],
      "execution_count": 1,
      "outputs": [
        {
          "output_type": "stream",
          "text": [
            "Downloading...\n",
            "From: https://drive.google.com/uc?id=19CCyCgJrUxtvgZF53vnctJiOJ23T5mqF\n",
            "To: /content/covid.train.csv\n",
            "100% 2.00M/2.00M [00:00<00:00, 7.58MB/s]\n",
            "Downloading...\n",
            "From: https://drive.google.com/uc?id=1CE240jLm2npU-tdz81-oVKEF3T2yfT1O\n",
            "To: /content/covid.test.csv\n",
            "100% 651k/651k [00:00<00:00, 3.98MB/s]\n"
          ],
          "name": "stdout"
        }
      ]
    },
    {
      "cell_type": "markdown",
      "metadata": {
        "id": "wS_4-77xHk44"
      },
      "source": [
        "# **Import Some Packages**"
      ]
    },
    {
      "cell_type": "code",
      "metadata": {
        "id": "k-onQd4JNA5H"
      },
      "source": [
        "# PyTorch\n",
        "import torch\n",
        "import torch.nn as nn\n",
        "from torch.utils.data import Dataset, DataLoader, Subset\n",
        "\n",
        "# For data preprocess\n",
        "import numpy as np\n",
        "import csv\n",
        "import os\n",
        "\n",
        "# For plotting\n",
        "import matplotlib.pyplot as plt\n",
        "from matplotlib.pyplot import figure\n",
        "\n",
        "myseed = 42069  # set a random seed for reproducibility\n",
        "torch.backends.cudnn.deterministic = True\n",
        "torch.backends.cudnn.benchmark = False\n",
        "np.random.seed(myseed)\n",
        "torch.manual_seed(myseed)\n",
        "if torch.cuda.is_available():\n",
        "    torch.cuda.manual_seed_all(myseed)"
      ],
      "execution_count": 2,
      "outputs": []
    },
    {
      "cell_type": "markdown",
      "metadata": {
        "id": "BtE3b6JEH7rw"
      },
      "source": [
        "# **Some Utilities**\n",
        "\n",
        "You do not need to modify this part."
      ]
    },
    {
      "cell_type": "code",
      "metadata": {
        "id": "FWMT3uf1NGQp",
        "colab": {
          "base_uri": "https://localhost:8080/"
        },
        "outputId": "761ddbbc-5c34-41f8-d452-3b24bfeea7a1"
      },
      "source": [
        "def get_device():\n",
        "    return 'cuda' if torch.cuda.is_available() else 'cpu'\n",
        "\n",
        "def plot_learning_curve(loss_record, title=''):\n",
        "    ''' Plot learning curve of your DNN (train & dev loss) '''\n",
        "    total_steps = len(loss_record['train'])\n",
        "    x_1 = range(total_steps)\n",
        "    x_2 = x_1[::len(loss_record['train']) // len(loss_record['dev'])]\n",
        "    figure(figsize=(6, 4))\n",
        "    plt.plot(x_1, loss_record['train'], c='tab:red', label='train')\n",
        "    plt.plot(x_2, loss_record['dev'], c='tab:cyan', label='dev')\n",
        "    \n",
        "    plt.ylim(0.0, 5.)\n",
        "    plt.xlabel('Training steps')\n",
        "    plt.ylabel('MSE loss')\n",
        "    plt.title('Learning curve of {}'.format(title))\n",
        "    plt.legend()\n",
        "    plt.show()\n",
        "\n",
        "\n",
        "def plot_pred(dv_set, model, device, lim=35., preds=None, targets=None):\n",
        "    ''' Plot prediction of your DNN '''\n",
        "    if preds is None or targets is None:\n",
        "        model.eval()\n",
        "        preds, targets = [], []\n",
        "        for x, y in dv_set:\n",
        "            x, y = x.to(device), y.to(device)\n",
        "            with torch.no_grad():\n",
        "                pred = model(x)\n",
        "                preds.append(pred.detach().cpu())\n",
        "                targets.append(y.detach().cpu())\n",
        "        preds = torch.cat(preds, dim=0).numpy()\n",
        "        targets = torch.cat(targets, dim=0).numpy()\n",
        "\n",
        "    \n",
        "    pred_loss = dev(dv_set, model, device)\n",
        "    figure(figsize=(5, 5))\n",
        "    plt.scatter(targets, preds, c='r', alpha=0.5)\n",
        "    plt.plot([-0.2, lim], [-0.2, lim], c='b')\n",
        "    plt.xlim(-0.2, lim)\n",
        "    plt.ylim(-0.2, lim)\n",
        "    plt.xlabel('ground truth value')\n",
        "    plt.ylabel('predicted value')\n",
        "    plt.title('Validation Loss: {:4f}'.format(pred_loss))\n",
        "    plt.show()\n",
        "print('currently use device: ' + get_device())"
      ],
      "execution_count": 53,
      "outputs": [
        {
          "output_type": "stream",
          "text": [
            "currently use device: cuda\n"
          ],
          "name": "stdout"
        }
      ]
    },
    {
      "cell_type": "markdown",
      "metadata": {
        "id": "39U_XFX6KOoj"
      },
      "source": [
        "# **Preprocess**\n",
        "\n",
        "We have three kinds of datasets:\n",
        "* `train`: for training\n",
        "* `dev`: for validation\n",
        "* `test`: for testing (w/o target value)"
      ]
    },
    {
      "cell_type": "markdown",
      "metadata": {
        "id": "TQ-MdwpLL7Dt"
      },
      "source": [
        "## **Dataset**\n",
        "\n",
        "The `COVID19Dataset` below does:\n",
        "* read `.csv` files\n",
        "* extract features\n",
        "* split `covid.train.csv` into train/dev sets\n",
        "* normalize features\n",
        "\n",
        "Finishing `TODO` below might make you pass medium baseline."
      ]
    },
    {
      "cell_type": "code",
      "metadata": {
        "id": "0zlpIp9ANJRU"
      },
      "source": [
        "select_feats = list(range(12))\n",
        "all_feature = list(range(40)) + [57, 75]\n",
        "for day in range(3): \n",
        "  all_feature += [ 40 + 18 * day + feat for feat in select_feats ]\n",
        "\n",
        "class COVID19Dataset(Dataset):\n",
        "    ''' Dataset for loading and preprocessing the COVID19 dataset '''\n",
        "    def __init__(self,\n",
        "                 path,\n",
        "                 mode='train',\n",
        "                 target_only=False):\n",
        "        self.mode = mode\n",
        "\n",
        "        # Read data into numpy arrays\n",
        "        with open(path, 'r') as fp:\n",
        "            data = list(csv.reader(fp))\n",
        "            data = np.array(data[1:])[:, 1:].astype(float)\n",
        "        \n",
        "        # extract needed feature indexes\n",
        "        feats = []\n",
        "        if not target_only:\n",
        "            feats = list(range(93))\n",
        "        else:\n",
        "            # TODO: Using 40 states & 2 tested_positive features (indices = 57 & 75)\n",
        "            feats = all_feature\n",
        "\n",
        "        if mode == 'test':\n",
        "            # Testing data\n",
        "            # data: 893 x 93 (40 states + day 1 (18) + day 2 (18) + day 3 (17))\n",
        "            data = data[:, feats]\n",
        "            self.data = torch.FloatTensor(data)\n",
        "        else:\n",
        "            # Training data (train/dev sets)\n",
        "            # data: 2700 x 94 (40 states + day 1 (18) + day 2 (18) + day 3 (18))\n",
        "            target = data[:, -1]\n",
        "            data = data[:, feats]\n",
        "            \n",
        "            # Splitting training data into train & dev sets => Ratio: 0.1\n",
        "            if mode == 'train':\n",
        "                indices = [i for i in range(len(data)) if i % 10 != 0]\n",
        "            elif mode == 'dev':\n",
        "                indices = [i for i in range(len(data)) if i % 10 == 0]\n",
        "            \n",
        "            # Convert data into PyTorch tensors\n",
        "            self.data = torch.FloatTensor(data[indices])\n",
        "            self.target = torch.FloatTensor(target[indices])\n",
        "\n",
        "        # Normalize features (you may remove this part to see what will happen)\n",
        "        self.__normalize_feature()\n",
        "\n",
        "        self.dim = self.data.shape[1]\n",
        "\n",
        "        print('Finished reading the {} set of COVID19 Dataset ({} samples found, each dim = {})'\n",
        "              .format(mode, len(self.data), self.dim))\n",
        "\n",
        "    def __normalize_feature(self):\n",
        "        sample_mean = self.data[:, 40:].mean(dim=0, keepdim=True)\n",
        "        sample_std = self.data[:, 40:].std(dim=0, keepdim=True)\n",
        "        self.data[:, 40:] = (self.data[:, 40:] - sample_mean) / sample_std \n",
        "\n",
        "    def __getitem__(self, index):\n",
        "        # Returns one sample at a time\n",
        "        if self.mode in ['train', 'dev']:\n",
        "            # For training\n",
        "            return self.data[index], self.target[index]\n",
        "        else:\n",
        "            # For testing (no target)\n",
        "            return self.data[index]\n",
        "\n",
        "    def __len__(self):\n",
        "        # Returns the size of the dataset\n",
        "        return len(self.data)"
      ],
      "execution_count": 80,
      "outputs": []
    },
    {
      "cell_type": "markdown",
      "metadata": {
        "id": "5UylAbj-ZPMH"
      },
      "source": [
        "# K-fold Corss Validation DataSet"
      ]
    },
    {
      "cell_type": "code",
      "metadata": {
        "id": "W2k44djmZMkm"
      },
      "source": [
        "class COVID19TrainDataset(Dataset):\n",
        "    def __init__(self, path, indices=None, select_feature=False):\n",
        "        with open(path, 'r') as fp:\n",
        "            data = list(csv.reader(fp))\n",
        "            data = np.array(data[1:])[:, 1:].astype(float)\n",
        "        \n",
        "        # select feature\n",
        "        feats = list(range(93)) if not select_feature else all_feature\n",
        "        self.feats_num = len(feats)\n",
        "\n",
        "        self.data = torch.FloatTensor(data[:, feats])\n",
        "        self.target = torch.FloatTensor(data[:, -1])\n",
        "\n",
        "        if indices:\n",
        "            self.data = self.data[indices]\n",
        "            self.target = self.target[indices]\n",
        "            self.__normalize_feature()\n",
        "\n",
        "    def __normalize_feature(self):\n",
        "        sample_mean = self.data[:, 40:].mean(dim=0, keepdim=True)\n",
        "        sample_std = self.data[:, 40:].std(dim=0, keepdim=True)\n",
        "        self.data[:, 40:] = (self.data[:, 40:] - sample_mean) / sample_std \n",
        "\n",
        "    def __getitem__(self, index):\n",
        "        return self.data[index], self.target[index]\n",
        "\n",
        "    def __len__(self):\n",
        "        return len(self.data)\n",
        "\n",
        "def create_cross_validation_datasets(path, fold_nums=5, select_feature=False):\n",
        "    train_set = []\n",
        "    all_data = COVID19TrainDataset(path)\n",
        "    data_num = len(all_data)\n",
        "    data_idx = np.arange(data_num)\n",
        "    np.random.shuffle(data_idx)\n",
        "    data_idx = data_idx.tolist()\n",
        "\n",
        "    start = 0\n",
        "    data_num_fold = data_num // fold_nums\n",
        "    for fold_idx in range(fold_nums):\n",
        "        start = fold_idx * data_num_fold\n",
        "        end = min(start + data_num_fold, data_num)\n",
        "\n",
        "        train_idx = data_idx[:start] +  data_idx[end:]\n",
        "        val_idx = data_idx[start:end]\n",
        "\n",
        "        train_data = COVID19TrainDataset(path, indices=train_idx, select_feature=select_feature)\n",
        "        val_data = COVID19TrainDataset(path, indices=val_idx, select_feature=select_feature)\n",
        "\n",
        "        train_set.append((train_data, val_data))\n",
        "        \n",
        "        print('fold {:2d} => train size: {:4d} val size {:4d}'.format(fold_idx, len(train_data), len(val_data)))\n",
        "\n",
        "    return train_set"
      ],
      "execution_count": 81,
      "outputs": []
    },
    {
      "cell_type": "code",
      "metadata": {
        "id": "hlhLk5t6MBX3"
      },
      "source": [
        "def prep_dataloader(path, mode, batch_size, n_jobs=0, target_only=False):\n",
        "    ''' Generates a dataset, then is put into a dataloader. '''\n",
        "    dataset = COVID19Dataset(path, mode=mode, target_only=target_only)  # Construct dataset\n",
        "    dataloader = DataLoader(\n",
        "        dataset, batch_size,\n",
        "        shuffle=(mode == 'train'),\n",
        "        drop_last=False,\n",
        "        num_workers=n_jobs, \n",
        "        pin_memory=True\n",
        "    )                            # Construct dataloader\n",
        "    return dataloader\n",
        "\n",
        "def create_dataloader(dataset, batch_size, mode='train', n_jobs=0):\n",
        "    return DataLoader(\n",
        "    dataset, batch_size,\n",
        "    shuffle=(mode == 'train'),\n",
        "    drop_last=False,\n",
        "    num_workers=n_jobs, \n",
        "    pin_memory=True\n",
        "    )                     \n",
        "    return dataloader\n"
      ],
      "execution_count": 62,
      "outputs": []
    },
    {
      "cell_type": "markdown",
      "metadata": {
        "id": "SGuycwR0MeQB"
      },
      "source": [
        "# **Deep Neural Network**\n",
        "\n",
        "`NeuralNet` is an `nn.Module` designed for regression.\n",
        "The DNN consists of 2 fully-connected layers with ReLU activation.\n",
        "This module also included a function `cal_loss` for calculating loss.\n"
      ]
    },
    {
      "cell_type": "code",
      "metadata": {
        "id": "49-uXYovOAI0"
      },
      "source": [
        "class ModelBase(nn.Module):\n",
        "    ''' A simple fully-connected deep neural network '''\n",
        "    def __init__(self, name=\"model_base\"):\n",
        "        super().__init__()\n",
        "        self.name = name\n",
        "        self.criterion = nn.MSELoss(reduction='mean')\n",
        "\n",
        "    def forward(self, x):\n",
        "        ''' Given input of size (batch_size x input_dim), compute output of the network '''\n",
        "        return self.net(x).squeeze(1)\n",
        "\n",
        "    def cal_loss(self, pred, target):\n",
        "        return self.criterion(pred, target)\n",
        "\n",
        "    def clear_weight(self):\n",
        "        self.apply(self.__reset_weight)\n",
        "\n",
        "    def __reset_weight(self, layer):\n",
        "        if hasattr(layer, 'reset_parameters'):\n",
        "            layer.reset_parameters()\n",
        "\n",
        "class Model1(ModelBase):\n",
        "    def __init__(self, input_dim):\n",
        "        super().__init__(name=\"Linear64(1)\")\n",
        "        self.net = nn.Sequential(\n",
        "            nn.Linear(input_dim, 64),\n",
        "            nn.ReLU(),\n",
        "            nn.Linear(64, 1),\n",
        "        )\n",
        "\n",
        "class Model2(ModelBase):\n",
        "    def __init__(self, input_dim):\n",
        "        super().__init__(name=\"Linear32(2)\")\n",
        "        self.net = nn.Sequential(\n",
        "            nn.Linear(input_dim, 32),\n",
        "            nn.ReLU(),\n",
        "            nn.Linear(32, 32),\n",
        "            nn.ReLU(),\n",
        "            nn.Linear(32, 1),\n",
        "        )\n",
        "\n",
        "class Model3(ModelBase):\n",
        "    def __init__(self, input_dim):\n",
        "        super().__init__(name=\"Linear32(3)\")\n",
        "        self.net = nn.Sequential(\n",
        "            nn.Linear(input_dim, 32),\n",
        "            nn.ReLU(),\n",
        "            nn.Linear(32, 32),\n",
        "            nn.ReLU(),\n",
        "            nn.Linear(32, 32),\n",
        "            nn.ReLU(),\n",
        "            nn.Linear(32, 1),\n",
        "        )\n",
        "\n",
        "class Model4(ModelBase):\n",
        "    def __init__(self, input_dim):\n",
        "        super().__init__(name=\"LinearNorm64(1)\")\n",
        "        self.net = nn.Sequential(\n",
        "            nn.Linear(input_dim, 64),\n",
        "            nn.BatchNorm1d(64),\n",
        "            nn.ReLU(),\n",
        "            nn.Linear(64, 1),\n",
        "        )"
      ],
      "execution_count": 127,
      "outputs": []
    },
    {
      "cell_type": "markdown",
      "metadata": {
        "id": "DvFWVjZ5Nvga"
      },
      "source": [
        "# **Train/Dev/Test**"
      ]
    },
    {
      "cell_type": "markdown",
      "metadata": {
        "id": "MAM8QecJOyqn"
      },
      "source": [
        "## **Training**"
      ]
    },
    {
      "cell_type": "code",
      "metadata": {
        "id": "lOqcmYzMO7jB"
      },
      "source": [
        "def train(tr_set, dv_set, model, config, device, print_log=False):\n",
        "    ''' DNN training '''\n",
        "\n",
        "    n_epochs = config['n_epochs']  # Maximum number of epochs\n",
        "    early_stops = config['early_stop']\n",
        "    # Setup optimizer\n",
        "    optimizer = getattr(torch.optim, config['optimizer'])(\n",
        "        model.parameters(), **config['optim_hparas'])\n",
        "\n",
        "    min_mse = float(\"inf\")\n",
        "    loss_record = {'train': [], 'dev': []}      # for recording training loss\n",
        "    early_stop_cnt = 0\n",
        "    epoch = 0\n",
        "\n",
        "    save_count = 0\n",
        "    while epoch < n_epochs and early_stop_cnt <= early_stops:\n",
        "        model.train()                           # set model to training mode\n",
        "        for x, y in tr_set:                     # iterate through the dataloader\n",
        "            optimizer.zero_grad()               # set gradient to zero\n",
        "            x, y = x.to(device), y.to(device)   # move data to device (cpu/cuda)\n",
        "            pred = model(x)                     # forward pass (compute output)\n",
        "            mse_loss = model.cal_loss(pred, y)  # compute loss\n",
        "            mse_loss.backward()                 # compute gradient (backpropagation)\n",
        "            optimizer.step()                    # update model with optimizer\n",
        "            loss_record['train'].append(mse_loss.detach().cpu().item())\n",
        "\n",
        "        # After each epoch, test your model on the validation (development) set.\n",
        "        dev_mse = dev(dv_set, model, device)\n",
        "        if dev_mse < min_mse:\n",
        "            # Save model if your model improved\n",
        "            min_mse = dev_mse\n",
        "            torch.save(model.state_dict(), config['save_path'])  # Save model to specified path\n",
        "            early_stop_cnt = 0\n",
        "            save_count += 1\n",
        "\n",
        "            if print_log and save_count % 10 == 1:\n",
        "                print('Saving model (epoch = {:4d}, train_loss={:.4f}, val_loss = {:.4f})'.format(epoch + 1, loss_record['train'][-1] ,min_mse))\n",
        "\n",
        "        else:\n",
        "            early_stop_cnt += 1\n",
        "\n",
        "        loss_record['dev'].append(dev_mse)\n",
        "            \n",
        "        epoch += 1\n",
        "        \n",
        "\n",
        "    print('Finished training after {} epochs'.format(epoch))\n",
        "    return min_mse, loss_record"
      ],
      "execution_count": 122,
      "outputs": []
    },
    {
      "cell_type": "markdown",
      "metadata": {
        "id": "0hSd4Bn3O2PL"
      },
      "source": [
        "## **Validation**"
      ]
    },
    {
      "cell_type": "code",
      "metadata": {
        "id": "yrxrD3YsN3U2"
      },
      "source": [
        "def dev(dv_set, model, device):\n",
        "    model.eval()                                # set model to evalutation mode\n",
        "    total_loss = 0\n",
        "    for x, y in dv_set:                         # iterate through the dataloader\n",
        "        x, y = x.to(device), y.to(device)       # move data to device (cpu/cuda)\n",
        "        with torch.no_grad():                   # disable gradient calculation\n",
        "            pred = model(x)                     # forward pass (compute output)\n",
        "            mse_loss = model.cal_loss(pred, y)  # compute loss\n",
        "        total_loss += mse_loss.detach().cpu().item() * len(x)  # accumulate loss\n",
        "    total_loss = total_loss / len(dv_set.dataset)              # compute averaged loss\n",
        "\n",
        "    return total_loss"
      ],
      "execution_count": 17,
      "outputs": []
    },
    {
      "cell_type": "markdown",
      "metadata": {
        "id": "SvckkF5dvf0j"
      },
      "source": [
        "# **Setup Hyper-parameters**\n",
        "\n",
        "`config` contains hyper-parameters for training and the path to save your model."
      ]
    },
    {
      "cell_type": "code",
      "metadata": {
        "id": "NPXpdumwPjE7"
      },
      "source": [
        "device = get_device()                 # get the current available device ('cpu' or 'cuda')\n",
        "os.makedirs('models', exist_ok=True)  # The trained model will be saved to ./models/\n",
        "target_only = True                   # TODO: Using 40 states & 2 tested_positive features\n",
        "\n",
        "# TODO: How to tune these hyper-parameters to improve your model's performance?\n",
        "config = {\n",
        "    'n_epochs': 1000,                # maximum number of epochs\n",
        "    'batch_size': 270,               # mini-batch size for dataloader\n",
        "    'optimizer': 'Adam',              # optimization algorithm (optimizer in torch.optim)\n",
        "    'optim_hparas': {                # hyper-parameters for the optimizer (depends on which optimizer you are using)\n",
        "        'lr': 0.001,                 # learning rate of SGD\n",
        "        'weight_decay': 0.1,\n",
        "        # 'momentum': 0.9              # momentum for SGD\n",
        "    },\n",
        "    'early_stop': 50,               # early stopping epochs (the number epochs since your model's last improvement)\n",
        "}"
      ],
      "execution_count": 85,
      "outputs": []
    },
    {
      "cell_type": "markdown",
      "metadata": {
        "id": "6j1eOV3TOH-j"
      },
      "source": [
        "# **Load data and model**"
      ]
    },
    {
      "cell_type": "code",
      "metadata": {
        "colab": {
          "base_uri": "https://localhost:8080/"
        },
        "id": "eNrYBMmePLKm",
        "outputId": "4f4e0a98-7688-42f0-fe9c-3c4e326e2e7e"
      },
      "source": [
        "tr_set = prep_dataloader(tr_path, 'train', config['batch_size'], target_only=target_only)\n",
        "dv_set = prep_dataloader(tr_path, 'dev', config['batch_size'], target_only=target_only)\n",
        "\n",
        "model = Model3(tr_set.dataset.dim).to(device)  # Construct model and move to device\n",
        "print(\"Model name: {model_name}, Input Dimension: {input}\".format(model_name=model.name, input=tr_set.dataset.dim))"
      ],
      "execution_count": 128,
      "outputs": [
        {
          "output_type": "stream",
          "text": [
            "Finished reading the train set of COVID19 Dataset (2430 samples found, each dim = 78)\n",
            "Finished reading the dev set of COVID19 Dataset (270 samples found, each dim = 78)\n",
            "Model name: Linear32(3), Input Dimension: 78\n"
          ],
          "name": "stdout"
        }
      ]
    },
    {
      "cell_type": "markdown",
      "metadata": {
        "id": "sX2B_zgSOPTJ"
      },
      "source": [
        "# **Start Training!**"
      ]
    },
    {
      "cell_type": "code",
      "metadata": {
        "colab": {
          "base_uri": "https://localhost:8080/",
          "height": 502
        },
        "id": "GrEbUxazQAAZ",
        "outputId": "8c118a57-c35f-4220-d671-41ed3cbec51e"
      },
      "source": [
        "config['save_path'] = 'models/{model_name}.pth'.format(model_name=model.name)\n",
        "model_loss, model_loss_record = train(tr_set, dv_set, model, config, device, print_log=True)\n",
        "plot_learning_curve(model_loss_record, title=model.name)"
      ],
      "execution_count": 129,
      "outputs": [
        {
          "output_type": "stream",
          "text": [
            "Saving model (epoch =    1, train_loss=327.5587, val_loss = 320.2340)\n",
            "Saving model (epoch =   12, train_loss=22.5970, val_loss = 25.3609)\n",
            "Saving model (epoch =   22, train_loss=11.0331, val_loss = 12.7361)\n",
            "Saving model (epoch =   32, train_loss=4.6338, val_loss = 4.0787)\n",
            "Saving model (epoch =   42, train_loss=2.2668, val_loss = 1.8566)\n",
            "Saving model (epoch =   53, train_loss=1.7303, val_loss = 1.3619)\n",
            "Saving model (epoch =   70, train_loss=1.4846, val_loss = 1.1298)\n",
            "Saving model (epoch =   90, train_loss=1.3041, val_loss = 1.0103)\n",
            "Saving model (epoch =  130, train_loss=0.9886, val_loss = 0.8866)\n",
            "Saving model (epoch =  165, train_loss=0.8319, val_loss = 0.8165)\n",
            "Saving model (epoch =  337, train_loss=0.6777, val_loss = 0.7653)\n",
            "Finished training after 1000 epochs\n"
          ],
          "name": "stdout"
        },
        {
          "output_type": "display_data",
          "data": {
            "image/png": "[encoded data removed]",
            "text/plain": [
              "<Figure size 432x288 with 1 Axes>"
            ]
          },
          "metadata": {
            "tags": [],
            "needs_background": "light"
          }
        }
      ]
    },
    {
      "cell_type": "code",
      "metadata": {
        "colab": {
          "base_uri": "https://localhost:8080/",
          "height": 350
        },
        "id": "3iZTVn5WQFpX",
        "outputId": "2c21b7de-8f5c-4397-dc13-b866fda25457"
      },
      "source": [
        "model.clear_weight()\n",
        "ckpt = torch.load(config['save_path'], map_location='cpu')  # Load your best model\n",
        "model.load_state_dict(ckpt)\n",
        "plot_pred(dv_set, model, device)  # Show prediction on the validation set"
      ],
      "execution_count": 130,
      "outputs": [
        {
          "output_type": "display_data",
          "data": {
            "image/png": "[encoded data removed]",
            "text/plain": [
              "<Figure size 360x360 with 1 Axes>"
            ]
          },
          "metadata": {
            "tags": [],
            "needs_background": "light"
          }
        }
      ]
    },
    {
      "cell_type": "markdown",
      "metadata": {
        "id": "aQikz3IPiyPf"
      },
      "source": [
        "# **Testing**\n",
        "The predictions of your model on testing set will be stored at `pred.csv`."
      ]
    },
    {
      "cell_type": "markdown",
      "metadata": {
        "id": "_Lk_d_gmEKwZ"
      },
      "source": [
        "# Train by cross validation\n",
        "\n"
      ]
    },
    {
      "cell_type": "markdown",
      "metadata": {
        "id": "7H7OYPPc7ZIW"
      },
      "source": [
        "Training Helper Functions\n"
      ]
    },
    {
      "cell_type": "code",
      "metadata": {
        "id": "4eTHzBU9EfcC"
      },
      "source": [
        "def train_by_cross_val(train_sets, model, config, save_folder):\n",
        "    train_history = {}\n",
        "    for fold_idx, train_set in enumerate(train_sets):\n",
        "        print(\"Start traing fold {:2d}\".format(fold_idx))\n",
        "\n",
        "        model.clear_weight()\n",
        "        \n",
        "        train_loader = create_dataloader(train_set[0], batch_size=config['batch_size'], mode='train')\n",
        "        val_loader = create_dataloader(train_set[1], config['batch_size'], mode='val')\n",
        "\n",
        "        # model = NeuralNet(input_dim=train_set[0].data.shape[1]).to(config['device'])\n",
        "        config['save_path'] = os.path.join(save_folder, 'model_{:d}.pth'.format(fold_idx))\n",
        "        model_loss, model_loss_record = train(train_loader, val_loader, model, config, device, print_log=False)\n",
        "        train_history[fold_idx] = {\n",
        "            'loss': model_loss,\n",
        "            'record': model_loss_record,\n",
        "            'model_path': config['save_path'],\n",
        "        }\n",
        "        print('Finish training fold {:2d} => val_loss: {:4f}'.format(fold_idx, model_loss))\n",
        "    return train_history\n",
        "\n",
        "def get_average_loss(train_history):\n",
        "    total_loss = 0.\n",
        "    for fold_idx, history in train_history.items():\n",
        "        total_loss += history['loss']\n",
        "    return total_loss / len(train_history)\n",
        "\n"
      ],
      "execution_count": 103,
      "outputs": []
    },
    {
      "cell_type": "code",
      "metadata": {
        "colab": {
          "base_uri": "https://localhost:8080/"
        },
        "id": "E4jz_fNmCss2",
        "outputId": "cbe066d6-4015-49b5-9dde-bbb3147f42d9"
      },
      "source": [
        "device = get_device()  \n",
        "select_feature = True             \n",
        "\n",
        "# TODO: How to tune these hyper-parameters to improve your model's performance?\n",
        "config = {\n",
        "    'device': device,\n",
        "\n",
        "    'n_epochs': 1000,                # maximum number of epochs\n",
        "    'batch_size': 270,               # mini-batch size for dataloader\n",
        "\n",
        "    'optimizer': 'Adam',              # optimization algorithm (optimizer in torch.optim)\n",
        "    'optim_hparas': {                # hyper-parameters for the optimizer (depends on which optimizer you are using)\n",
        "        'lr': 0.001,                 # learning rate of SGD\n",
        "        'weight_decay': 0.1,\n",
        "    },\n",
        "    \n",
        "    'early_stop': 50,               # early stopping epochs (the number epochs since your model's last improvement)\n",
        "}\n",
        "\n",
        "train_sets = create_cross_validation_datasets(tr_path, fold_nums=5, select_feature = select_feature)"
      ],
      "execution_count": 104,
      "outputs": [
        {
          "output_type": "stream",
          "text": [
            "fold  0 => train size: 2160 val size  540\n",
            "fold  1 => train size: 2160 val size  540\n",
            "fold  2 => train size: 2160 val size  540\n",
            "fold  3 => train size: 2160 val size  540\n",
            "fold  4 => train size: 2160 val size  540\n"
          ],
          "name": "stdout"
        }
      ]
    },
    {
      "cell_type": "code",
      "metadata": {
        "colab": {
          "base_uri": "https://localhost:8080/"
        },
        "id": "8-06owxtOz5F",
        "outputId": "ccc8f585-7012-4947-a1cf-aa8783f18121"
      },
      "source": [
        "feats_num = train_sets[0][0].feats_num\n",
        "model = Model3(feats_num).to(device)\n",
        "print(\"Model name: {model_name}, Input Dimension: {input}\".format(model_name=model.name, input=feats_num))\n",
        "\n",
        "save_folder = 'models/cross_val/{:s}'.format(model.name)\n",
        "os.makedirs(save_folder, exist_ok=True)\n",
        "train_history = train_by_cross_val(train_sets, model, config, save_folder)\n",
        "\n",
        "average_loss = get_average_loss(train_history)\n",
        "print('cross_loss: {:.4f}'.format(average_loss))"
      ],
      "execution_count": 105,
      "outputs": [
        {
          "output_type": "stream",
          "text": [
            "Model name: Linear16(2), Input Dimension: 93\n",
            "Start traing fold  0\n",
            "Finished training after 442 epochs\n",
            "Finish training fold  0 => val_loss: 1.443707\n",
            "Start traing fold  1\n",
            "Finished training after 504 epochs\n",
            "Finish training fold  1 => val_loss: 1.023922\n",
            "Start traing fold  2\n",
            "Finished training after 569 epochs\n",
            "Finish training fold  2 => val_loss: 0.810541\n",
            "Start traing fold  3\n",
            "Finished training after 690 epochs\n",
            "Finish training fold  3 => val_loss: 0.914553\n",
            "Start traing fold  4\n",
            "Finished training after 462 epochs\n",
            "Finish training fold  4 => val_loss: 1.169616\n",
            "cross_loss: 1.0725\n"
          ],
          "name": "stdout"
        }
      ]
    },
    {
      "cell_type": "markdown",
      "metadata": {
        "id": "EJkok9EQniRP"
      },
      "source": [
        "plot traing curve\n"
      ]
    },
    {
      "cell_type": "code",
      "metadata": {
        "colab": {
          "base_uri": "https://localhost:8080/",
          "height": 1000
        },
        "id": "E57AAvvXmey8",
        "outputId": "15587581-b57c-4764-ef6b-efe9bcfbbe92"
      },
      "source": [
        "nums_fold = len(train_history)\n",
        "for fold_idx, history in train_history.items():\n",
        "  model_loss_record = history['record']\n",
        "\n",
        "  plot_learning_curve(model_loss_record, title='Model: {:s}, fold_idx: {:2d}'.format(model.name, fold_idx))\n"
      ],
      "execution_count": 99,
      "outputs": [
        {
          "output_type": "display_data",
          "data": {
            "image/png": "[encoded data removed]",
            "text/plain": [
              "<Figure size 432x288 with 1 Axes>"
            ]
          },
          "metadata": {
            "tags": [],
            "needs_background": "light"
          }
        },
        {
          "output_type": "display_data",
          "data": {
            "image/png": "[encoded data removed]",
            "text/plain": [
              "<Figure size 432x288 with 1 Axes>"
            ]
          },
          "metadata": {
            "tags": [],
            "needs_background": "light"
          }
        },
        {
          "output_type": "display_data",
          "data": {
            "image/png": "[encoded data removed]",
            "text/plain": [
              "<Figure size 432x288 with 1 Axes>"
            ]
          },
          "metadata": {
            "tags": [],
            "needs_background": "light"
          }
        },
        {
          "output_type": "display_data",
          "data": {
            "image/png": "[encoded data removed]",
            "text/plain": [
              "<Figure size 432x288 with 1 Axes>"
            ]
          },
          "metadata": {
            "tags": [],
            "needs_background": "light"
          }
        },
        {
          "output_type": "display_data",
          "data": {
            "image/png": "[encoded data removed]",
            "text/plain": [
              "<Figure size 432x288 with 1 Axes>"
            ]
          },
          "metadata": {
            "tags": [],
            "needs_background": "light"
          }
        }
      ]
    },
    {
      "cell_type": "markdown",
      "metadata": {
        "id": "AFzTfqT8EbsM"
      },
      "source": [
        "# Final Training"
      ]
    },
    {
      "cell_type": "code",
      "metadata": {
        "colab": {
          "base_uri": "https://localhost:8080/",
          "height": 312
        },
        "id": "wTBL67iVEf0k",
        "outputId": "037febf8-5d7d-4671-f461-498ca7fdc6cd"
      },
      "source": [
        "device = get_device()  \n",
        "select_feature = True   \n",
        "\n",
        "config = {\n",
        "    'device': device,\n",
        "\n",
        "    'n_epochs': 1000,         \n",
        "    'batch_size': 270,\n",
        "    'early_stop': 1000,\n",
        "\n",
        "    'optimizer': 'Adam',              # optimization algorithm (optimizer in torch.optim)\n",
        "    'optim_hparas': {                # hyper-parameters for the optimizer (depends on which optimizer you are using)\n",
        "        'lr': 0.001,                 # learning rate of SGD\n",
        "        'weight_decay': 0.1,\n",
        "    },\n",
        "}\n",
        "\n",
        "\n",
        "train_dataset = COVID19TrainDataset(path=tr_path, select_feature=select_feature)\n",
        "validation_dataset = COVID19TrainDataset(path=tr_path, indices=[1], select_feature=select_feature)\n",
        "\n",
        "train_loader = create_dataloader(train_dataset, batch_size=config['batch_size'], mode='train')\n",
        "validation_loader = create_dataloader(validation_dataset, batch_size=config['batch_size'], mode='val')\n",
        "\n",
        "model = Model3(train_dataset.feats_num).to(device)\n",
        "loss, model_loss_record = train(train_loader, validation_loader, model, config, device, print_log=True)\n",
        "plot_learning_curve(model_loss_record, title='Train all: {:s}'.format(model.name))"
      ],
      "execution_count": 132,
      "outputs": [
        {
          "output_type": "stream",
          "text": [
            "Finished training after 1000 epochs\n"
          ],
          "name": "stdout"
        },
        {
          "output_type": "display_data",
          "data": {
            "image/png": "[encoded data removed]",
            "text/plain": [
              "<Figure size 432x288 with 1 Axes>"
            ]
          },
          "metadata": {
            "tags": [],
            "needs_background": "light"
          }
        }
      ]
    },
    {
      "cell_type": "markdown",
      "metadata": {
        "id": "Zedi-2W3DXUu"
      },
      "source": [
        "# Testing"
      ]
    },
    {
      "cell_type": "code",
      "metadata": {
        "colab": {
          "base_uri": "https://localhost:8080/"
        },
        "id": "O8cTuQjQQOon",
        "outputId": "3a47e053-32b2-4cb1-d29a-dd15fabbc2d7"
      },
      "source": [
        "def test(tt_set, model, device):\n",
        "    model.eval()                                # set model to evalutation mode\n",
        "    preds = []\n",
        "    for x in tt_set:                            # iterate through the dataloader\n",
        "        x = x.to(device)                        # move data to device (cpu/cuda)\n",
        "        with torch.no_grad():                   # disable gradient calculation\n",
        "            pred = model(x)                     # forward pass (compute output)\n",
        "            preds.append(pred.detach().cpu())   # collect prediction\n",
        "    preds = torch.cat(preds, dim=0).numpy()     # concatenate all predictions and convert to a numpy array\n",
        "    return preds\n",
        "\n",
        "def save_pred(preds, file):\n",
        "    ''' Save predictions to specified file '''\n",
        "    print('Saving results to {}'.format(file))\n",
        "    with open(file, 'w') as fp:\n",
        "        writer = csv.writer(fp)\n",
        "        writer.writerow(['id', 'tested_positive'])\n",
        "        for i, p in enumerate(preds):\n",
        "            writer.writerow([i, p])\n",
        "\n",
        "tt_set = prep_dataloader(tt_path, 'test', config['batch_size'], target_only=select_feature)\n",
        "preds = test(tt_set, model, device)  # predict COVID-19 cases with your model\n",
        "save_pred(preds, 'pred.csv')         # save prediction file to pred.csv"
      ],
      "execution_count": 133,
      "outputs": [
        {
          "output_type": "stream",
          "text": [
            "Finished reading the test set of COVID19 Dataset (893 samples found, each dim = 78)\n",
            "Saving results to pred.csv\n"
          ],
          "name": "stdout"
        }
      ]
    },
    {
      "cell_type": "markdown",
      "metadata": {
        "id": "nfrVxqJanGpE"
      },
      "source": [
        "# **Hints**\n",
        "\n",
        "## **Simple Baseline**\n",
        "* Run sample code\n",
        "\n",
        "## **Medium Baseline**\n",
        "* Feature selection: 40 states + 2 `tested_positive` (`TODO` in dataset)\n",
        "\n",
        "## **Strong Baseline**\n",
        "* Feature selection (what other features are useful?)\n",
        "* DNN architecture (layers? dimension? activation function?)\n",
        "* Training (mini-batch? optimizer? learning rate?)\n",
        "* L2 regularization\n",
        "* There are some mistakes in the sample code, can you find them?"
      ]
    },
    {
      "cell_type": "markdown",
      "metadata": {
        "id": "9tmCwXgpot3t"
      },
      "source": [
        "# **Reference**\n",
        "This code is completely written by Heng-Jui Chang @ NTUEE.  \n",
        "Copying or reusing this code is required to specify the original author. \n",
        "\n",
        "E.g.  \n",
        "Source: Heng-Jui Chang @ NTUEE (https://github.com/ga642381/ML2021-Spring/blob/main/HW01/HW01.ipynb)\n"
      ]
    }
  ]
}